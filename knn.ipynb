{
 "cells": [
  {
   "cell_type": "markdown",
   "metadata": {},
   "source": [
    "# KNN Classification"
   ]
  },
  {
   "cell_type": "code",
   "execution_count": 164,
   "metadata": {},
   "outputs": [],
   "source": [
    "import numpy as np\n",
    "import pandas as dp\n",
    "import csv\n",
    "from sklearn.neighbors import KDTree\n",
    "import pandas as pd\n",
    "from sklearn.model_selection import cross_validate, cross_val_score\n",
    "from sklearn.neighbors import KNeighborsClassifier"
   ]
  },
  {
   "cell_type": "code",
   "execution_count": 126,
   "metadata": {},
   "outputs": [],
   "source": [
    "# Reading data\n",
    "df = dp.read_csv(\"./0-train.csv\")\n",
    "class_0 = np.array(df).astype(float)\n",
    "df = dp.read_csv(\"./1-train.csv\")\n",
    "class_1 = np.array(df).astype(float)\n",
    "df = dp.read_csv(\"./2-train.csv\")\n",
    "class_2 = np.array(df).astype(float)\n",
    "df = dp.read_csv(\"./3-train.csv\")\n",
    "class_3 = np.array(df).astype(float)\n",
    "df = dp.read_csv(\"./4-train.csv\")\n",
    "class_4 = np.array(df).astype(float)\n",
    "\n"
   ]
  },
  {
   "cell_type": "markdown",
   "metadata": {},
   "source": [
    "## Formatting data to KDTree"
   ]
  },
  {
   "cell_type": "code",
   "execution_count": 152,
   "metadata": {},
   "outputs": [
    {
     "name": "stdout",
     "output_type": "stream",
     "text": [
      "(6467, 78)\n"
     ]
    }
   ],
   "source": [
    "x_train = np.empty(0)\n",
    "x_train = np.array(class_0)\n",
    "x_train = np.concatenate([x_train, class_1])\n",
    "x_train = np.concatenate([x_train, class_2])\n",
    "x_train = np.concatenate([x_train, class_3])\n",
    "x_train = np.concatenate([x_train, class_4])\n",
    "print(x_train.shape)"
   ]
  },
  {
   "cell_type": "code",
   "execution_count": 153,
   "metadata": {},
   "outputs": [
    {
     "name": "stdout",
     "output_type": "stream",
     "text": [
      "(6467,)\n"
     ]
    }
   ],
   "source": [
    "# Generating labels to data\n",
    "y_train = np.empty(0)\n",
    "y_train = np.repeat(0, class_0.shape[0])\n",
    "y_train = np.append(y_train, np.repeat(1, class_1.shape[0]))\n",
    "y_train = np.append(y_train, np.repeat(2, class_2.shape[0]))\n",
    "y_train = np.append(y_train, np.repeat(3, class_3.shape[0]))\n",
    "y_train = np.append(y_train, np.repeat(4, class_4.shape[0]))\n",
    "print(y_train.shape)"
   ]
  },
  {
   "cell_type": "markdown",
   "metadata": {},
   "source": [
    "## Test Data"
   ]
  },
  {
   "cell_type": "code",
   "execution_count": 178,
   "metadata": {},
   "outputs": [],
   "source": [
    "df = dp.read_csv(\"./0-test.csv\")\n",
    "class_0_test = np.array(df).astype(float)\n",
    "df = dp.read_csv(\"./1-test.csv\")\n",
    "class_1_test = np.array(df).astype(float)\n",
    "df = dp.read_csv(\"./2-test.csv\")\n",
    "class_2_test = np.array(df).astype(float)\n",
    "df = dp.read_csv(\"./3-test.csv\")\n",
    "class_3_test = np.array(df).astype(float)\n",
    "df = dp.read_csv(\"./4-test.csv\")\n",
    "class_4_test = np.array(df).astype(float)\n"
   ]
  },
  {
   "cell_type": "code",
   "execution_count": 188,
   "metadata": {},
   "outputs": [
    {
     "name": "stdout",
     "output_type": "stream",
     "text": [
      "(2180, 78)\n"
     ]
    }
   ],
   "source": [
    "x_test = np.array(class_0_test)\n",
    "x_test = np.concatenate([x_test, class_1_test])\n",
    "x_test = np.concatenate([x_test, class_2_test])\n",
    "x_test = np.concatenate([x_test, class_3_test])\n",
    "x_test = np.concatenate([x_test, class_4_test])\n",
    "print(x_test.shape)"
   ]
  },
  {
   "cell_type": "code",
   "execution_count": 189,
   "metadata": {},
   "outputs": [
    {
     "name": "stdout",
     "output_type": "stream",
     "text": [
      "2180\n",
      "(2180,)\n"
     ]
    }
   ],
   "source": [
    "print(class_0_test.shape[0] +class_1_test.shape[0] +class_2_test.shape[0] +class_3_test.shape[0] +class_4_test.shape[0])\n",
    "y_test = np.repeat(0, class_0_test.shape[0])\n",
    "y_test = np.append(y_test, np.repeat(1, class_1_test.shape[0]))\n",
    "y_test = np.append(y_test, np.repeat(2, class_2_test.shape[0]))\n",
    "y_test = np.append(y_test, np.repeat(3, class_3_test.shape[0]))\n",
    "y_test = np.append(y_test, np.repeat(4, class_4_test.shape[0]))\n",
    "print(y_test.shape)"
   ]
  },
  {
   "cell_type": "code",
   "execution_count": 182,
   "metadata": {},
   "outputs": [
    {
     "name": "stdout",
     "output_type": "stream",
     "text": [
      "(6467, 78)\n",
      "(6467,)\n",
      "(7036, 78)\n",
      "(2180,)\n"
     ]
    }
   ],
   "source": [
    "print(x_train.shape)\n",
    "print(y_train.shape)\n",
    "print(x_test.shape)\n",
    "print(y_test.shape)"
   ]
  },
  {
   "cell_type": "code",
   "execution_count": null,
   "metadata": {},
   "outputs": [],
   "source": [
    "def cross_validation(model, x_features, y_target, folds):\n",
    "    _scoring = ['accuracy', 'precision', 'recall', 'f1']\n",
    "    results = cross_validate(estimator=model,\n",
    "                             X=x_features,\n",
    "                             y=y_target,\n",
    "                             cv=folds,\n",
    "                             scoring=_scoring,\n",
    "                             return_train_score=True,\n",
    "                             average='micro')\n",
    "      \n",
    "    return {\"Training Accuracy scores\": results['train_accuracy'],\n",
    "            \"Mean Training Accuracy\": results['train_accuracy'].mean()*100,\n",
    "            \"Training Precision scores\": results['train_precision'],\n",
    "            \"Mean Training Precision\": results['train_precision'].mean(),\n",
    "            \"Training Recall scores\": results['train_recall'],\n",
    "            \"Mean Training Recall\": results['train_recall'].mean(),\n",
    "            \"Training F1 scores\": results['train_f1'],\n",
    "            \"Mean Training F1 Score\": results['train_f1'].mean(),\n",
    "            \"Validation Accuracy scores\": results['test_accuracy'],\n",
    "            \"Mean Validation Accuracy\": results['test_accuracy'].mean()*100,\n",
    "            \"Validation Precision scores\": results['test_precision'],\n",
    "            \"Mean Validation Precision\": results['test_precision'].mean(),\n",
    "            \"Validation Recall scores\": results['test_recall'],\n",
    "            \"Mean Validation Recall\": results['test_recall'].mean(),\n",
    "            \"Validation F1 scores\": results['test_f1'],\n",
    "            \"Mean Validation F1 Score\": results['test_f1'].mean()\n",
    "    }"
   ]
  },
  {
   "cell_type": "code",
   "execution_count": 171,
   "metadata": {},
   "outputs": [
    {
     "data": {
      "text/plain": [
       "KNeighborsClassifier(algorithm='kd_tree')"
      ]
     },
     "execution_count": 171,
     "metadata": {},
     "output_type": "execute_result"
    }
   ],
   "source": [
    "kdtree = KNeighborsClassifier(n_neighbors=5, algorithm='kd_tree', leaf_size=30)\n",
    "kdtree.fit(x_train, y_train)\n"
   ]
  },
  {
   "cell_type": "code",
   "execution_count": 169,
   "metadata": {},
   "outputs": [
    {
     "name": "stdout",
     "output_type": "stream",
     "text": [
      "[3 2 1 3 2 2 0 4 2 4 3 1 4 1 4 4 3 2 3 1 0 1 1 4 3 3 2 1 4 4 4 1 2 3 4 2 4\n",
      " 4 1 3 1 4 4 4 1 4 1 1 3 2 3 4]\n",
      "[0 0 0 ... 4 4 4]\n"
     ]
    }
   ],
   "source": [
    "print(kdtree.predict(x_test))\n",
    "print(y_test)"
   ]
  },
  {
   "cell_type": "code",
   "execution_count": 190,
   "metadata": {},
   "outputs": [
    {
     "name": "stdout",
     "output_type": "stream",
     "text": [
      "Confusion matrix, without normalization\n",
      "[[  2  13   9  11  17]\n",
      " [  6 272 159  30  91]\n",
      " [  5 142 187 103 162]\n",
      " [  9 110 105 103  75]\n",
      " [  6  88  95  97 283]]\n",
      "Normalized confusion matrix\n",
      "[[0.03846154 0.25       0.17307692 0.21153846 0.32692308]\n",
      " [0.01075269 0.4874552  0.28494624 0.05376344 0.16308244]\n",
      " [0.00834725 0.23706177 0.31218698 0.17195326 0.27045075]\n",
      " [0.02238806 0.27363184 0.26119403 0.25621891 0.18656716]\n",
      " [0.01054482 0.15465729 0.16695958 0.17047452 0.4973638 ]]\n"
     ]
    },
    {
     "data": {
      "image/png": "[encoded data removed]",
      "text/plain": [
       "<Figure size 432x288 with 2 Axes>"
      ]
     },
     "metadata": {
      "needs_background": "light"
     },
     "output_type": "display_data"
    },
    {
     "data": {
      "image/png": "[encoded data removed]",
      "text/plain": [
       "<Figure size 432x288 with 2 Axes>"
      ]
     },
     "metadata": {
      "needs_background": "light"
     },
     "output_type": "display_data"
    }
   ],
   "source": [
    "from sklearn.metrics import ConfusionMatrixDisplay\n",
    "import matplotlib.pyplot as plt\n",
    "\n",
    "class_names = [0, 1, 2, 3, 4]\n",
    "titles_options = [\n",
    "    (\"Confusion matrix, without normalization\", None),\n",
    "    (\"Normalized confusion matrix\", \"true\"),\n",
    "]\n",
    "for title, normalize in titles_options:\n",
    "    disp = ConfusionMatrixDisplay.from_estimator(\n",
    "        kdtree,\n",
    "        x_test,\n",
    "        y_test,\n",
    "        display_labels=class_names,\n",
    "        cmap=plt.cm.Blues,\n",
    "        normalize=normalize,\n",
    "    )\n",
    "    disp.ax_.set_title(title)\n",
    "\n",
    "    print(title)\n",
    "    print(disp.confusion_matrix)"
   ]
  }
 ],
 "metadata": {
  "interpreter": {
   "hash": "916dbcbb3f70747c44a77c7bcd40155683ae19c65e1c03b4aa3499c5328201f1"
  },
  "kernelspec": {
   "display_name": "Python 3.8.10 64-bit",
   "language": "python",
   "name": "python3"
  },
  "language_info": {
   "codemirror_mode": {
    "name": "ipython",
    "version": 3
   },
   "file_extension": ".py",
   "mimetype": "text/x-python",
   "name": "python",
   "nbconvert_exporter": "python",
   "pygments_lexer": "ipython3",
   "version": "3.8.10"
  },
  "orig_nbformat": 4
 },
 "nbformat": 4,
 "nbformat_minor": 2
}
