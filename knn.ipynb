{
 "cells": [
  {
   "cell_type": "markdown",
   "metadata": {},
   "source": [
    "# KNN Classification"
   ]
  },
  {
   "cell_type": "code",
   "execution_count": 3,
   "metadata": {},
   "outputs": [],
   "source": [
    "import numpy as np\n",
    "import pandas as dp\n",
    "import csv\n",
    "from scipy.spatial import KDTree\n",
    "import pandas as pd"
   ]
  },
  {
   "cell_type": "code",
   "execution_count": 12,
   "metadata": {},
   "outputs": [],
   "source": [
    "# Reading data\n",
    "df = dp.read_csv(\"./0.csv\")\n",
    "class_0 = np.array(df).astype(float)\n",
    "df = dp.read_csv(\"./1.csv\")\n",
    "class_1 = np.array(df).astype(float)\n",
    "df = dp.read_csv(\"./2.csv\")\n",
    "class_2 = np.array(df).astype(float)\n",
    "df = dp.read_csv(\"./3.csv\")\n",
    "class_3 = np.array(df).astype(float)\n",
    "df = dp.read_csv(\"./4.csv\")\n",
    "class_4 = np.array(df).astype(float)\n",
    "\n"
   ]
  },
  {
   "cell_type": "markdown",
   "metadata": {},
   "source": [
    "## Formatting data to KDTree"
   ]
  },
  {
   "cell_type": "code",
   "execution_count": 16,
   "metadata": {},
   "outputs": [
    {
     "name": "stdout",
     "output_type": "stream",
     "text": [
      "[[5125.   2416.   5197.5  ... 2935.   3175.   2796.  ]\n",
      " [5180.75 2747.   5310.5  ... 2837.   3110.25 2830.  ]\n",
      " [5332.5  2675.   5529.25 ... 2669.   3067.5  2687.  ]\n",
      " ...\n",
      " [2631.5  2889.   2652.25 ... 2461.   2542.75 1853.  ]\n",
      " [2604.25 2965.   2486.5  ... 1921.   1669.   1874.  ]\n",
      " [2731.25 3127.   2804.   ... 1482.   1425.   1576.  ]]\n"
     ]
    }
   ],
   "source": [
    "x = np.array(class_0)\n",
    "np.append(x, class_1)\n",
    "np.append(x, class_2)\n",
    "np.append(x, class_3)\n",
    "np.append(x, class_4)"
   ]
  },
  {
   "cell_type": "code",
   "execution_count": 18,
   "metadata": {},
   "outputs": [
    {
     "data": {
      "text/plain": [
       "array([0, 0, 0, ..., 4, 4, 4])"
      ]
     },
     "execution_count": 18,
     "metadata": {},
     "output_type": "execute_result"
    }
   ],
   "source": [
    "y = np.repeat(0, class_0.shape[0])\n",
    "np.append(y, np.repeat(1, class_1.shape[0]))\n",
    "np.append(y, np.repeat(2, class_2.shape[0]))\n",
    "np.append(y, np.repeat(3, class_3.shape[0]))\n",
    "np.append(y, np.repeat(4, class_4.shape[0]))"
   ]
  },
  {
   "cell_type": "markdown",
   "metadata": {},
   "source": [
    "## Inserting items"
   ]
  },
  {
   "cell_type": "code",
   "execution_count": 21,
   "metadata": {},
   "outputs": [],
   "source": [
    "tree = KDTree(np.c_[x, y])"
   ]
  }
 ],
 "metadata": {
  "interpreter": {
   "hash": "916dbcbb3f70747c44a77c7bcd40155683ae19c65e1c03b4aa3499c5328201f1"
  },
  "kernelspec": {
   "display_name": "Python 3.8.10 64-bit",
   "language": "python",
   "name": "python3"
  },
  "language_info": {
   "codemirror_mode": {
    "name": "ipython",
    "version": 3
   },
   "file_extension": ".py",
   "mimetype": "text/x-python",
   "name": "python",
   "nbconvert_exporter": "python",
   "pygments_lexer": "ipython3",
   "version": "3.8.10"
  },
  "orig_nbformat": 4
 },
 "nbformat": 4,
 "nbformat_minor": 2
}
