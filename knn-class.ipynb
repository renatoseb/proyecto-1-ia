{
 "cells": [
  {
   "cell_type": "code",
   "execution_count": 12,
   "metadata": {},
   "outputs": [],
   "source": [
    "%matplotlib inline\n",
    "\n",
    "import pandas as pd\n",
    "import numpy as np\n",
    "import matplotlib.pyplot as plt\n",
    "import seaborn as sns\n",
    "from sklearn.model_selection import train_test_split, cross_val_score\n",
    "from sklearn.metrics import accuracy_score\n",
    "from sklearn.svm import LinearSVC\n",
    "from sklearn.metrics import confusion_matrix, ConfusionMatrixDisplay, classification_report\n",
    "from sklearn.neighbors import KNeighborsClassifier"
   ]
  },
  {
   "cell_type": "code",
   "execution_count": 4,
   "metadata": {},
   "outputs": [
    {
     "name": "stdout",
     "output_type": "stream",
     "text": [
      "./data_5_4_cuts.csv\n"
     ]
    }
   ],
   "source": [
    "N_CLASSES = 5\n",
    "CUTS = 4\n",
    "PREDICT_V = 'ClassId'\n",
    "FILE_NAME = f'./data_{N_CLASSES}_{CUTS}_cuts.csv'\n",
    "data = pd.read_csv(FILE_NAME)\n",
    "print(f'{FILE_NAME}')"
   ]
  },
  {
   "cell_type": "markdown",
   "metadata": {},
   "source": [
    "## DATA PREPROCESSING"
   ]
  },
  {
   "cell_type": "code",
   "execution_count": 9,
   "metadata": {},
   "outputs": [],
   "source": [
    "X = data.iloc[:,:-2]        # feature columns\n",
    "Y = data.iloc[:,-2:-1]      # predict variable column"
   ]
  },
  {
   "cell_type": "code",
   "execution_count": null,
   "metadata": {},
   "outputs": [],
   "source": [
    "# normalize data\n",
    "X = (X-X.mean())/X.std()"
   ]
  },
  {
   "cell_type": "markdown",
   "metadata": {},
   "source": [
    "## Validation"
   ]
  },
  {
   "cell_type": "code",
   "execution_count": null,
   "metadata": {},
   "outputs": [],
   "source": [
    "def K_Fold_Validation(classifier, X, Y):\n",
    "    # acc_score = svm.score(X_test, Y_test)\n",
    "    # print(f'accuracy score: {acc_score}')\n",
    "\n",
    "    # performing K-fold cross validation\n",
    "    folds = 10\n",
    "    cv_arr = cross_val_score(classifier, X, Y.values.ravel(), cv=folds)\n",
    "    k_fold_mean_error = np.sum([1-sc for sc in cv_arr])/folds\n",
    "    k_fold_mean_score = cv_arr.mean()\n",
    "\n",
    "    print(f'k-fold mean error:   {k_fold_mean_error}')\n",
    "    print(f'k-fold mean score:   {k_fold_mean_score}')\n",
    "    \n",
    "    # confussion matrix\n",
    "    cm = confusion_matrix(Y_test, classifier.predict(X_test))\n",
    "    disp = ConfusionMatrixDisplay(confusion_matrix=cm, display_labels=classifier.classes_)\n",
    "    disp.plot()\n",
    "    \n",
    "    # accuracy report for each class\n",
    "    arr = np.array(cm)\n",
    "    for i in range(N_CLASSES):\n",
    "        print(f'\\taccuracy on class {i}-th: {round(arr[i,i]/np.sum(arr[i,:]), 5)} %')"
   ]
  },
  {
   "cell_type": "code",
   "execution_count": 13,
   "metadata": {},
   "outputs": [],
   "source": [
    "X_train, X_test, Y_train, Y_test = train_test_split(X, Y, test_size=0.3)"
   ]
  },
  {
   "cell_type": "code",
   "execution_count": 14,
   "metadata": {},
   "outputs": [
    {
     "data": {
      "text/plain": [
       "KNeighborsClassifier(algorithm='kd_tree')"
      ]
     },
     "execution_count": 14,
     "metadata": {},
     "output_type": "execute_result"
    }
   ],
   "source": [
    "kdtree = KNeighborsClassifier(n_neighbors=5, algorithm='kd_tree', leaf_size=30)\n",
    "kdtree.fit(X_train, Y_train.values.ravel())"
   ]
  }
 ],
 "metadata": {
  "interpreter": {
   "hash": "916dbcbb3f70747c44a77c7bcd40155683ae19c65e1c03b4aa3499c5328201f1"
  },
  "kernelspec": {
   "display_name": "Python 3.8.10 64-bit",
   "language": "python",
   "name": "python3"
  },
  "language_info": {
   "codemirror_mode": {
    "name": "ipython",
    "version": 3
   },
   "file_extension": ".py",
   "mimetype": "text/x-python",
   "name": "python",
   "nbconvert_exporter": "python",
   "pygments_lexer": "ipython3",
   "version": "3.8.10"
  },
  "orig_nbformat": 4
 },
 "nbformat": 4,
 "nbformat_minor": 2
}
