{
 "cells": [
  {
   "cell_type": "markdown",
   "metadata": {},
   "source": [
    "# Proyecto 1 - IA"
   ]
  },
  {
   "cell_type": "markdown",
   "metadata": {},
   "source": [
    "## Getting sizes to resize"
   ]
  },
  {
   "cell_type": "code",
   "execution_count": 6,
   "metadata": {},
   "outputs": [],
   "source": [
    "import pandas as pd\n",
    "import numpy as np\n",
    "from PIL import Image\n",
    "import os, csv\n",
    "import pywt             # Haar Wavelet function"
   ]
  },
  {
   "cell_type": "markdown",
   "metadata": {},
   "source": [
    "Define variables"
   ]
  },
  {
   "cell_type": "code",
   "execution_count": 7,
   "metadata": {},
   "outputs": [],
   "source": [
    "wavelet_cuts = 5"
   ]
  },
  {
   "cell_type": "code",
   "execution_count": 8,
   "metadata": {},
   "outputs": [],
   "source": [
    "\n",
    "def get_measures_to_resize(type, classes):\n",
    "    if type == \"train\":\n",
    "        df = pd.read_csv(f\"./trafico-{classes}/Train.csv\")\n",
    "    else:\n",
    "        df = pd.read_csv(f\"./trafico-{classes}/Test.csv\")\n",
    "\n",
    "    arr_widths = np.array(df[\"Width\"]).astype(float)\n",
    "    arr_heights = np.array(df[\"Height\"]).astype(float)\n",
    "    width_to_resize = int(np.average(arr_widths))\n",
    "    height_to_resize = int(np.average(arr_heights))\n",
    "    \n",
    "    print(\"Average width of images: \", width_to_resize)\n",
    "    print(\"Average height of images: \", height_to_resize)\n",
    "    df.head()\n",
    "    return width_to_resize, height_to_resize"
   ]
  },
  {
   "cell_type": "markdown",
   "metadata": {},
   "source": [
    "## Haar Wavelet Function\n",
    "Compression image algorithm"
   ]
  },
  {
   "cell_type": "code",
   "execution_count": 9,
   "metadata": {},
   "outputs": [],
   "source": [
    "def toFV(mat, n):\n",
    "  \"\"\"_Haar wavelete function\n",
    "    mat: image matrix\n",
    "    n: slices\n",
    "  \"\"\" \n",
    "  for i in range(n):\n",
    "    mat, (LH, HL, HH) = pywt.dwt2(mat, 'haar')\n",
    "  return list(np.array(np.matrix(mat).flatten()).ravel())"
   ]
  },
  {
   "cell_type": "code",
   "execution_count": 10,
   "metadata": {},
   "outputs": [],
   "source": [
    "\n",
    "def resize_images_to(type, classes, width_to_resize, height_to_resize):\n",
    "    print(\"Saving images with compressed images\")\n",
    "\n",
    "    if type == \"train\":\n",
    "        df = pd.read_csv(f\"./trafico-{classes}/Train.csv\")\n",
    "    else: \n",
    "        df = pd.read_csv(f\"./trafico-{classes}/Test.csv\")\n",
    "\n",
    "    for index, row in df.iterrows():\n",
    "        # Resizing image\n",
    "        image = Image.open(os.path.join(\"trafico-5\",row[\"Path\"]))\n",
    "        img_resized = image.resize((height_to_resize, width_to_resize))\n",
    "        img_array = np.asarray(img_resized)\n",
    "        # Applying Haat Wavelet Compression with 5 cuts\n",
    "        fv_array = toFV(img_array, wavelet_cuts)\n",
    "\n",
    "        # Writing csv file with compressed images\n",
    "        class_id = row[\"ClassId\"]\n",
    "        filename = f\"{class_id}-{type}.csv\"\n",
    "        f = open(filename, 'a')\n",
    "        writer = csv.writer(f)\n",
    "        writer.writerow(fv_array)\n",
    "        f.close()\n",
    "   \n",
    "# df_class_0 = pd.read_csv(\"0.csv\") \n",
    "# df_class_1 = pd.read_csv(\"1.csv\") \n",
    "# df_class_2 = pd.read_csv(\"2.csv\") \n",
    "# df_class_3 = pd.read_csv(\"3.csv\") \n",
    "# df_class_4 = pd.read_csv(\"4.csv\") \n",
    "# display(df_class_0.head())\n",
    "# display(df_class_1.head())\n",
    "# display(df_class_2.head())\n",
    "# display(df_class_3.head())\n",
    "# display(df_class_4.head())"
   ]
  },
  {
   "cell_type": "code",
   "execution_count": 11,
   "metadata": {},
   "outputs": [
    {
     "name": "stdout",
     "output_type": "stream",
     "text": [
      "Average width of images:  39\n",
      "Average height of images:  39\n",
      "Saving images with compressed images\n",
      "Average width of images:  39\n",
      "Average height of images:  39\n",
      "Saving images with compressed images\n"
     ]
    }
   ],
   "source": [
    "width_to_resize_train, height_to_resize_train = get_measures_to_resize(\"train\", 5)\n",
    "resize_images_to(\"train\", 5, width_to_resize_train, height_to_resize_train)\n",
    "width_to_resize_test, height_to_resize_test = get_measures_to_resize(\"test\", 5)\n",
    "resize_images_to(\"test\", 5, width_to_resize_test, height_to_resize_test)"
   ]
  },
  {
   "cell_type": "code",
   "execution_count": null,
   "metadata": {},
   "outputs": [],
   "source": []
  },
  {
   "cell_type": "code",
   "execution_count": null,
   "metadata": {},
   "outputs": [],
   "source": []
  }
 ],
 "metadata": {
  "interpreter": {
   "hash": "916dbcbb3f70747c44a77c7bcd40155683ae19c65e1c03b4aa3499c5328201f1"
  },
  "kernelspec": {
   "display_name": "Python 3.8.10 64-bit",
   "language": "python",
   "name": "python3"
  },
  "language_info": {
   "codemirror_mode": {
    "name": "ipython",
    "version": 3
   },
   "file_extension": ".py",
   "mimetype": "text/x-python",
   "name": "python",
   "nbconvert_exporter": "python",
   "pygments_lexer": "ipython3",
   "version": "3.8.10"
  },
  "orig_nbformat": 4
 },
 "nbformat": 4,
 "nbformat_minor": 2
}
