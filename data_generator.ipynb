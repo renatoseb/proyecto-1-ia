{
 "cells": [
  {
   "cell_type": "code",
   "execution_count": 19,
   "metadata": {},
   "outputs": [],
   "source": [
    "import pandas as pd\n",
    "import numpy as np\n",
    "import matplotlib.pyplot as plt\n",
    "import pywt\n",
    "import os\n",
    "from PIL import Image\n",
    "import random\n",
    "import math"
   ]
  },
  {
   "cell_type": "code",
   "execution_count": 20,
   "metadata": {},
   "outputs": [
    {
     "name": "stdout",
     "output_type": "stream",
     "text": [
      "['.git', '.gitignore', 'data_generator.ipynb', 'KNN.ipynb', 'main.ipynb', 'README.md', 'requirements.txt', 'SVM.ipynb', 'trafico-10', 'trafico-5', 'venv']\n"
     ]
    }
   ],
   "source": [
    "path = './'\n",
    "print(os.listdir(path))"
   ]
  },
  {
   "cell_type": "code",
   "execution_count": 21,
   "metadata": {},
   "outputs": [
    {
     "data": {
      "text/plain": [
       "(6472, 8)"
      ]
     },
     "metadata": {},
     "output_type": "display_data"
    },
    {
     "data": {
      "text/plain": [
       "(2185, 8)"
      ]
     },
     "metadata": {},
     "output_type": "display_data"
    }
   ],
   "source": [
    "df1 = pd.read_csv(path+'trafico-5/Train.csv')\n",
    "df2 = pd.read_csv(path+'trafico-5/Test.csv')\n",
    "\n",
    "display(df1.shape)\n",
    "display(df2.shape)"
   ]
  },
  {
   "cell_type": "code",
   "execution_count": 22,
   "metadata": {},
   "outputs": [
    {
     "data": {
      "text/plain": [
       "(8657, 8)"
      ]
     },
     "metadata": {},
     "output_type": "display_data"
    },
    {
     "data": {
      "text/plain": [
       "['Width', 'Height', 'Roi.X1', 'Roi.Y1', 'Roi.X2', 'Roi.Y2', 'ClassId', 'Path']"
      ]
     },
     "metadata": {},
     "output_type": "display_data"
    },
    {
     "data": {
      "text/plain": [
       "(40, 40)"
      ]
     },
     "metadata": {},
     "output_type": "display_data"
    }
   ],
   "source": [
    "df = pd.concat([df1, df2])\n",
    "display(df.shape, list(df.columns))\n",
    "\n",
    "av_dim = math.ceil(df['Width'].mean()), math.ceil(df['Height'].mean())\n",
    "display(av_dim)"
   ]
  },
  {
   "cell_type": "code",
   "execution_count": 23,
   "metadata": {},
   "outputs": [],
   "source": [
    "def toFV(mat, n):\n",
    "  \"\"\"__Haar wavelete function_\n",
    "    mat: image matrix\n",
    "    n: slices\n",
    "  \"\"\" \n",
    "  for i in range(n):\n",
    "    mat, (LH, HL, HH) = pywt.dwt2(mat, 'haar')\n",
    "  return list(np.array(np.matrix(mat).flatten()).ravel())"
   ]
  },
  {
   "cell_type": "code",
   "execution_count": 48,
   "metadata": {},
   "outputs": [],
   "source": [
    "cuts = 10\n",
    "fvs = []\n",
    "for p in df['Path']:\n",
    "    im_path = './trafico-5/' + p\n",
    "    # print(im_path)\n",
    "    i = Image.open(im_path)\n",
    "    new_i = i.resize(av_dim)\n",
    "    # display(i, new_i)\n",
    "    # print(len(toFV(np.asarray(new_i), cuts)))\n",
    "    fvs.append(np.round(toFV(np.asarray(new_i), cuts), decimals=5))\n",
    "fvs = np.matrix(fvs)\n",
    "df_f = pd.DataFrame(fvs)"
   ]
  },
  {
   "cell_type": "code",
   "execution_count": 51,
   "metadata": {},
   "outputs": [
    {
     "data": {
      "text/html": [
       "<div>\n",
       "<style scoped>\n",
       "    .dataframe tbody tr th:only-of-type {\n",
       "        vertical-align: middle;\n",
       "    }\n",
       "\n",
       "    .dataframe tbody tr th {\n",
       "        vertical-align: top;\n",
       "    }\n",
       "\n",
       "    .dataframe thead th {\n",
       "        text-align: right;\n",
       "    }\n",
       "</style>\n",
       "<table border=\"1\" class=\"dataframe\">\n",
       "  <thead>\n",
       "    <tr style=\"text-align: right;\">\n",
       "      <th></th>\n",
       "      <th>0</th>\n",
       "      <th>1</th>\n",
       "      <th>2</th>\n",
       "      <th>3</th>\n",
       "      <th>4</th>\n",
       "      <th>5</th>\n",
       "      <th>6</th>\n",
       "      <th>7</th>\n",
       "      <th>8</th>\n",
       "      <th>9</th>\n",
       "      <th>...</th>\n",
       "      <th>30</th>\n",
       "      <th>31</th>\n",
       "      <th>32</th>\n",
       "      <th>33</th>\n",
       "      <th>34</th>\n",
       "      <th>35</th>\n",
       "      <th>36</th>\n",
       "      <th>37</th>\n",
       "      <th>38</th>\n",
       "      <th>39</th>\n",
       "    </tr>\n",
       "  </thead>\n",
       "  <tbody>\n",
       "    <tr>\n",
       "      <th>0</th>\n",
       "      <td>123752.0</td>\n",
       "      <td>127464.0</td>\n",
       "      <td>131368.0</td>\n",
       "      <td>134652.0</td>\n",
       "      <td>140396.0</td>\n",
       "      <td>135816.0</td>\n",
       "      <td>118036.0</td>\n",
       "      <td>97592.0</td>\n",
       "      <td>102232.0</td>\n",
       "      <td>109936.0</td>\n",
       "      <td>...</td>\n",
       "      <td>99344.0</td>\n",
       "      <td>98944.0</td>\n",
       "      <td>100200.0</td>\n",
       "      <td>100592.0</td>\n",
       "      <td>101596.0</td>\n",
       "      <td>102924.0</td>\n",
       "      <td>102668.0</td>\n",
       "      <td>99672.0</td>\n",
       "      <td>96696.0</td>\n",
       "      <td>95320.0</td>\n",
       "    </tr>\n",
       "    <tr>\n",
       "      <th>1</th>\n",
       "      <td>129212.0</td>\n",
       "      <td>132100.0</td>\n",
       "      <td>135232.0</td>\n",
       "      <td>137028.0</td>\n",
       "      <td>137960.0</td>\n",
       "      <td>120740.0</td>\n",
       "      <td>104928.0</td>\n",
       "      <td>99596.0</td>\n",
       "      <td>104332.0</td>\n",
       "      <td>112020.0</td>\n",
       "      <td>...</td>\n",
       "      <td>99632.0</td>\n",
       "      <td>100208.0</td>\n",
       "      <td>99936.0</td>\n",
       "      <td>99048.0</td>\n",
       "      <td>100468.0</td>\n",
       "      <td>103036.0</td>\n",
       "      <td>103192.0</td>\n",
       "      <td>98816.0</td>\n",
       "      <td>95492.0</td>\n",
       "      <td>94772.0</td>\n",
       "    </tr>\n",
       "    <tr>\n",
       "      <th>2</th>\n",
       "      <td>130912.0</td>\n",
       "      <td>135956.0</td>\n",
       "      <td>139692.0</td>\n",
       "      <td>136040.0</td>\n",
       "      <td>119316.0</td>\n",
       "      <td>103788.0</td>\n",
       "      <td>97448.0</td>\n",
       "      <td>99832.0</td>\n",
       "      <td>100876.0</td>\n",
       "      <td>101548.0</td>\n",
       "      <td>...</td>\n",
       "      <td>98808.0</td>\n",
       "      <td>95672.0</td>\n",
       "      <td>97404.0</td>\n",
       "      <td>96632.0</td>\n",
       "      <td>98180.0</td>\n",
       "      <td>102048.0</td>\n",
       "      <td>103348.0</td>\n",
       "      <td>99940.0</td>\n",
       "      <td>95172.0</td>\n",
       "      <td>91992.0</td>\n",
       "    </tr>\n",
       "    <tr>\n",
       "      <th>3</th>\n",
       "      <td>133700.0</td>\n",
       "      <td>138864.0</td>\n",
       "      <td>139096.0</td>\n",
       "      <td>126176.0</td>\n",
       "      <td>98800.0</td>\n",
       "      <td>94284.0</td>\n",
       "      <td>95320.0</td>\n",
       "      <td>98544.0</td>\n",
       "      <td>101056.0</td>\n",
       "      <td>96376.0</td>\n",
       "      <td>...</td>\n",
       "      <td>95256.0</td>\n",
       "      <td>99588.0</td>\n",
       "      <td>98560.0</td>\n",
       "      <td>98016.0</td>\n",
       "      <td>100172.0</td>\n",
       "      <td>104924.0</td>\n",
       "      <td>101752.0</td>\n",
       "      <td>95724.0</td>\n",
       "      <td>90904.0</td>\n",
       "      <td>89296.0</td>\n",
       "    </tr>\n",
       "    <tr>\n",
       "      <th>4</th>\n",
       "      <td>126916.0</td>\n",
       "      <td>131024.0</td>\n",
       "      <td>135548.0</td>\n",
       "      <td>141012.0</td>\n",
       "      <td>146004.0</td>\n",
       "      <td>137740.0</td>\n",
       "      <td>108980.0</td>\n",
       "      <td>98992.0</td>\n",
       "      <td>100044.0</td>\n",
       "      <td>95912.0</td>\n",
       "      <td>...</td>\n",
       "      <td>120672.0</td>\n",
       "      <td>110004.0</td>\n",
       "      <td>99672.0</td>\n",
       "      <td>97204.0</td>\n",
       "      <td>103368.0</td>\n",
       "      <td>99312.0</td>\n",
       "      <td>99692.0</td>\n",
       "      <td>103888.0</td>\n",
       "      <td>106628.0</td>\n",
       "      <td>104952.0</td>\n",
       "    </tr>\n",
       "  </tbody>\n",
       "</table>\n",
       "<p>5 rows × 40 columns</p>\n",
       "</div>"
      ],
      "text/plain": [
       "         0         1         2         3         4         5         6   \\\n",
       "0  123752.0  127464.0  131368.0  134652.0  140396.0  135816.0  118036.0   \n",
       "1  129212.0  132100.0  135232.0  137028.0  137960.0  120740.0  104928.0   \n",
       "2  130912.0  135956.0  139692.0  136040.0  119316.0  103788.0   97448.0   \n",
       "3  133700.0  138864.0  139096.0  126176.0   98800.0   94284.0   95320.0   \n",
       "4  126916.0  131024.0  135548.0  141012.0  146004.0  137740.0  108980.0   \n",
       "\n",
       "        7         8         9   ...        30        31        32        33  \\\n",
       "0  97592.0  102232.0  109936.0  ...   99344.0   98944.0  100200.0  100592.0   \n",
       "1  99596.0  104332.0  112020.0  ...   99632.0  100208.0   99936.0   99048.0   \n",
       "2  99832.0  100876.0  101548.0  ...   98808.0   95672.0   97404.0   96632.0   \n",
       "3  98544.0  101056.0   96376.0  ...   95256.0   99588.0   98560.0   98016.0   \n",
       "4  98992.0  100044.0   95912.0  ...  120672.0  110004.0   99672.0   97204.0   \n",
       "\n",
       "         34        35        36        37        38        39  \n",
       "0  101596.0  102924.0  102668.0   99672.0   96696.0   95320.0  \n",
       "1  100468.0  103036.0  103192.0   98816.0   95492.0   94772.0  \n",
       "2   98180.0  102048.0  103348.0   99940.0   95172.0   91992.0  \n",
       "3  100172.0  104924.0  101752.0   95724.0   90904.0   89296.0  \n",
       "4  103368.0   99312.0   99692.0  103888.0  106628.0  104952.0  \n",
       "\n",
       "[5 rows x 40 columns]"
      ]
     },
     "metadata": {},
     "output_type": "display_data"
    }
   ],
   "source": [
    "display(df_f.head(5))"
   ]
  },
  {
   "cell_type": "code",
   "execution_count": 55,
   "metadata": {},
   "outputs": [],
   "source": [
    "df_f['ClassId'] = list(df['ClassId'])\n",
    "df_f['Path'] = list(df['Path'])"
   ]
  },
  {
   "cell_type": "code",
   "execution_count": 61,
   "metadata": {},
   "outputs": [
    {
     "data": {
      "text/plain": [
       "(8657, 8)"
      ]
     },
     "metadata": {},
     "output_type": "display_data"
    }
   ],
   "source": [
    "display(df.shape)"
   ]
  },
  {
   "cell_type": "code",
   "execution_count": 71,
   "metadata": {},
   "outputs": [],
   "source": [
    "# display(df_f[0:250])\n",
    "# display(df_f[1000:1500])\n",
    "# display(df_f[2000:3500])\n",
    "# display(df_f[4500:5000])"
   ]
  },
  {
   "cell_type": "code",
   "execution_count": 72,
   "metadata": {},
   "outputs": [],
   "source": [
    "df_f.to_csv(path_or_buf=f'./data_{cuts}.csv', index=False)"
   ]
  },
  {
   "cell_type": "code",
   "execution_count": 75,
   "metadata": {},
   "outputs": [
    {
     "data": {
      "text/html": [
       "<div>\n",
       "<style scoped>\n",
       "    .dataframe tbody tr th:only-of-type {\n",
       "        vertical-align: middle;\n",
       "    }\n",
       "\n",
       "    .dataframe tbody tr th {\n",
       "        vertical-align: top;\n",
       "    }\n",
       "\n",
       "    .dataframe thead th {\n",
       "        text-align: right;\n",
       "    }\n",
       "</style>\n",
       "<table border=\"1\" class=\"dataframe\">\n",
       "  <thead>\n",
       "    <tr style=\"text-align: right;\">\n",
       "      <th></th>\n",
       "      <th>0</th>\n",
       "      <th>1</th>\n",
       "      <th>2</th>\n",
       "      <th>3</th>\n",
       "      <th>4</th>\n",
       "      <th>5</th>\n",
       "      <th>6</th>\n",
       "      <th>7</th>\n",
       "      <th>8</th>\n",
       "      <th>9</th>\n",
       "      <th>...</th>\n",
       "      <th>32</th>\n",
       "      <th>33</th>\n",
       "      <th>34</th>\n",
       "      <th>35</th>\n",
       "      <th>36</th>\n",
       "      <th>37</th>\n",
       "      <th>38</th>\n",
       "      <th>39</th>\n",
       "      <th>ClassId</th>\n",
       "      <th>Path</th>\n",
       "    </tr>\n",
       "  </thead>\n",
       "  <tbody>\n",
       "    <tr>\n",
       "      <th>0</th>\n",
       "      <td>123752.0</td>\n",
       "      <td>127464.0</td>\n",
       "      <td>131368.0</td>\n",
       "      <td>134652.0</td>\n",
       "      <td>140396.0</td>\n",
       "      <td>135816.0</td>\n",
       "      <td>118036.0</td>\n",
       "      <td>97592.0</td>\n",
       "      <td>102232.0</td>\n",
       "      <td>109936.0</td>\n",
       "      <td>...</td>\n",
       "      <td>100200.0</td>\n",
       "      <td>100592.0</td>\n",
       "      <td>101596.0</td>\n",
       "      <td>102924.0</td>\n",
       "      <td>102668.0</td>\n",
       "      <td>99672.0</td>\n",
       "      <td>96696.0</td>\n",
       "      <td>95320.0</td>\n",
       "      <td>0</td>\n",
       "      <td>Train/0/00000_00000_00000.png</td>\n",
       "    </tr>\n",
       "    <tr>\n",
       "      <th>1</th>\n",
       "      <td>129212.0</td>\n",
       "      <td>132100.0</td>\n",
       "      <td>135232.0</td>\n",
       "      <td>137028.0</td>\n",
       "      <td>137960.0</td>\n",
       "      <td>120740.0</td>\n",
       "      <td>104928.0</td>\n",
       "      <td>99596.0</td>\n",
       "      <td>104332.0</td>\n",
       "      <td>112020.0</td>\n",
       "      <td>...</td>\n",
       "      <td>99936.0</td>\n",
       "      <td>99048.0</td>\n",
       "      <td>100468.0</td>\n",
       "      <td>103036.0</td>\n",
       "      <td>103192.0</td>\n",
       "      <td>98816.0</td>\n",
       "      <td>95492.0</td>\n",
       "      <td>94772.0</td>\n",
       "      <td>0</td>\n",
       "      <td>Train/0/00000_00000_00001.png</td>\n",
       "    </tr>\n",
       "    <tr>\n",
       "      <th>2</th>\n",
       "      <td>130912.0</td>\n",
       "      <td>135956.0</td>\n",
       "      <td>139692.0</td>\n",
       "      <td>136040.0</td>\n",
       "      <td>119316.0</td>\n",
       "      <td>103788.0</td>\n",
       "      <td>97448.0</td>\n",
       "      <td>99832.0</td>\n",
       "      <td>100876.0</td>\n",
       "      <td>101548.0</td>\n",
       "      <td>...</td>\n",
       "      <td>97404.0</td>\n",
       "      <td>96632.0</td>\n",
       "      <td>98180.0</td>\n",
       "      <td>102048.0</td>\n",
       "      <td>103348.0</td>\n",
       "      <td>99940.0</td>\n",
       "      <td>95172.0</td>\n",
       "      <td>91992.0</td>\n",
       "      <td>0</td>\n",
       "      <td>Train/0/00000_00000_00002.png</td>\n",
       "    </tr>\n",
       "    <tr>\n",
       "      <th>3</th>\n",
       "      <td>133700.0</td>\n",
       "      <td>138864.0</td>\n",
       "      <td>139096.0</td>\n",
       "      <td>126176.0</td>\n",
       "      <td>98800.0</td>\n",
       "      <td>94284.0</td>\n",
       "      <td>95320.0</td>\n",
       "      <td>98544.0</td>\n",
       "      <td>101056.0</td>\n",
       "      <td>96376.0</td>\n",
       "      <td>...</td>\n",
       "      <td>98560.0</td>\n",
       "      <td>98016.0</td>\n",
       "      <td>100172.0</td>\n",
       "      <td>104924.0</td>\n",
       "      <td>101752.0</td>\n",
       "      <td>95724.0</td>\n",
       "      <td>90904.0</td>\n",
       "      <td>89296.0</td>\n",
       "      <td>0</td>\n",
       "      <td>Train/0/00000_00000_00003.png</td>\n",
       "    </tr>\n",
       "    <tr>\n",
       "      <th>4</th>\n",
       "      <td>126916.0</td>\n",
       "      <td>131024.0</td>\n",
       "      <td>135548.0</td>\n",
       "      <td>141012.0</td>\n",
       "      <td>146004.0</td>\n",
       "      <td>137740.0</td>\n",
       "      <td>108980.0</td>\n",
       "      <td>98992.0</td>\n",
       "      <td>100044.0</td>\n",
       "      <td>95912.0</td>\n",
       "      <td>...</td>\n",
       "      <td>99672.0</td>\n",
       "      <td>97204.0</td>\n",
       "      <td>103368.0</td>\n",
       "      <td>99312.0</td>\n",
       "      <td>99692.0</td>\n",
       "      <td>103888.0</td>\n",
       "      <td>106628.0</td>\n",
       "      <td>104952.0</td>\n",
       "      <td>0</td>\n",
       "      <td>Train/0/00000_00000_00004.png</td>\n",
       "    </tr>\n",
       "  </tbody>\n",
       "</table>\n",
       "<p>5 rows × 42 columns</p>\n",
       "</div>"
      ],
      "text/plain": [
       "          0         1         2         3         4         5         6  \\\n",
       "0  123752.0  127464.0  131368.0  134652.0  140396.0  135816.0  118036.0   \n",
       "1  129212.0  132100.0  135232.0  137028.0  137960.0  120740.0  104928.0   \n",
       "2  130912.0  135956.0  139692.0  136040.0  119316.0  103788.0   97448.0   \n",
       "3  133700.0  138864.0  139096.0  126176.0   98800.0   94284.0   95320.0   \n",
       "4  126916.0  131024.0  135548.0  141012.0  146004.0  137740.0  108980.0   \n",
       "\n",
       "         7         8         9  ...        32        33        34        35  \\\n",
       "0  97592.0  102232.0  109936.0  ...  100200.0  100592.0  101596.0  102924.0   \n",
       "1  99596.0  104332.0  112020.0  ...   99936.0   99048.0  100468.0  103036.0   \n",
       "2  99832.0  100876.0  101548.0  ...   97404.0   96632.0   98180.0  102048.0   \n",
       "3  98544.0  101056.0   96376.0  ...   98560.0   98016.0  100172.0  104924.0   \n",
       "4  98992.0  100044.0   95912.0  ...   99672.0   97204.0  103368.0   99312.0   \n",
       "\n",
       "         36        37        38        39  ClassId  \\\n",
       "0  102668.0   99672.0   96696.0   95320.0        0   \n",
       "1  103192.0   98816.0   95492.0   94772.0        0   \n",
       "2  103348.0   99940.0   95172.0   91992.0        0   \n",
       "3  101752.0   95724.0   90904.0   89296.0        0   \n",
       "4   99692.0  103888.0  106628.0  104952.0        0   \n",
       "\n",
       "                            Path  \n",
       "0  Train/0/00000_00000_00000.png  \n",
       "1  Train/0/00000_00000_00001.png  \n",
       "2  Train/0/00000_00000_00002.png  \n",
       "3  Train/0/00000_00000_00003.png  \n",
       "4  Train/0/00000_00000_00004.png  \n",
       "\n",
       "[5 rows x 42 columns]"
      ]
     },
     "metadata": {},
     "output_type": "display_data"
    }
   ],
   "source": [
    "data = pd.read_csv('./data_10.csv')\n",
    "display(data.head(5))"
   ]
  }
 ],
 "metadata": {
  "interpreter": {
   "hash": "ac275ad4800cf77b3eedc39c5c44cfce40246145bc5b77515017d4dd40cc5e9d"
  },
  "kernelspec": {
   "display_name": "Python 3.10.4 ('venv': venv)",
   "language": "python",
   "name": "python3"
  },
  "language_info": {
   "codemirror_mode": {
    "name": "ipython",
    "version": 3
   },
   "file_extension": ".py",
   "mimetype": "text/x-python",
   "name": "python",
   "nbconvert_exporter": "python",
   "pygments_lexer": "ipython3",
   "version": "3.10.4"
  },
  "orig_nbformat": 4
 },
 "nbformat": 4,
 "nbformat_minor": 2
}
