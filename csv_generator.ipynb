{
 "cells": [
  {
   "cell_type": "code",
   "execution_count": 55,
   "metadata": {},
   "outputs": [],
   "source": [
    "import pandas as pd\n",
    "import numpy as np\n",
    "import matplotlib.pyplot as plt\n",
    "import pywt\n",
    "import os\n",
    "from PIL import Image\n",
    "import random\n",
    "import math"
   ]
  },
  {
   "cell_type": "code",
   "execution_count": 56,
   "metadata": {},
   "outputs": [
    {
     "name": "stdout",
     "output_type": "stream",
     "text": [
      "['.git', '.gitignore', 'data_10_10_cuts.csv', 'data_10_20_cuts.csv', 'data_10_2_cuts.csv', 'data_10_3_cuts.csv', 'data_10_4_cuts.csv', 'data_10_5_cuts.csv', 'data_5_10_cuts.csv', 'data_5_20_cuts.csv', 'data_5_2_cuts.csv', 'data_5_3_cuts.csv', 'data_5_4_cuts.csv', 'data_5_5_cuts.csv', 'data_generator.ipynb', 'KNN.ipynb', 'main.ipynb', 'README.md', 'requirements.txt', 'SVM.ipynb', 'trafico-10', 'trafico-5', 'venv']\n"
     ]
    }
   ],
   "source": [
    "path = './'\n",
    "print(os.listdir(path))"
   ]
  },
  {
   "cell_type": "code",
   "execution_count": 57,
   "metadata": {},
   "outputs": [
    {
     "data": {
      "text/plain": [
       "(12201, 8)"
      ]
     },
     "metadata": {},
     "output_type": "display_data"
    },
    {
     "data": {
      "text/plain": [
       "(4036, 8)"
      ]
     },
     "metadata": {},
     "output_type": "display_data"
    }
   ],
   "source": [
    "n_classes = 10\n",
    "df1 = pd.read_csv(path+f'trafico-{n_classes}/Train.csv')\n",
    "df2 = pd.read_csv(path+f'trafico-{n_classes}/Test.csv')\n",
    "\n",
    "display(df1.shape)\n",
    "display(df2.shape)"
   ]
  },
  {
   "cell_type": "code",
   "execution_count": 58,
   "metadata": {},
   "outputs": [
    {
     "data": {
      "text/plain": [
       "(16237, 8)"
      ]
     },
     "metadata": {},
     "output_type": "display_data"
    },
    {
     "data": {
      "text/plain": [
       "['Width', 'Height', 'Roi.X1', 'Roi.Y1', 'Roi.X2', 'Roi.Y2', 'ClassId', 'Path']"
      ]
     },
     "metadata": {},
     "output_type": "display_data"
    },
    {
     "data": {
      "text/plain": [
       "(40, 40)"
      ]
     },
     "metadata": {},
     "output_type": "display_data"
    }
   ],
   "source": [
    "df = pd.concat([df1, df2])\n",
    "display(df.shape, list(df.columns))\n",
    "\n",
    "av_dim = math.ceil(df['Width'].mean()), math.ceil(df['Height'].mean())\n",
    "display(av_dim)"
   ]
  },
  {
   "cell_type": "code",
   "execution_count": 59,
   "metadata": {},
   "outputs": [],
   "source": [
    "def toFV(mat, n):\n",
    "  \"\"\"__Haar wavelete function_\n",
    "    mat: image matrix\n",
    "    n: slices\n",
    "  \"\"\" \n",
    "  for i in range(n):\n",
    "    mat, (LH, HL, HH) = pywt.dwt2(mat, 'haar')\n",
    "  return list(np.array(np.matrix(mat).flatten()).ravel())"
   ]
  },
  {
   "cell_type": "code",
   "execution_count": null,
   "metadata": {},
   "outputs": [],
   "source": [
    "cuts = 2\n",
    "fvs = []\n",
    "for p in df['Path']:\n",
    "    im_path = f'./trafico-{n_classes}/' + p\n",
    "    # print(im_path)\n",
    "    i = Image.open(im_path)\n",
    "    new_i = i.resize(av_dim)\n",
    "    # display(i, new_i)\n",
    "    # print(len(toFV(np.asarray(new_i), cuts)))\n",
    "    fvs.append(np.round(toFV(np.asarray(new_i), cuts), decimals=5))\n",
    "fvs = np.matrix(fvs)\n",
    "df_f = pd.DataFrame(fvs)"
   ]
  },
  {
   "cell_type": "code",
   "execution_count": null,
   "metadata": {},
   "outputs": [],
   "source": [
    "df_f.columns = [f'f_{i}' for i in range(len(df_f.columns))]"
   ]
  },
  {
   "cell_type": "code",
   "execution_count": null,
   "metadata": {},
   "outputs": [
    {
     "data": {
      "text/html": [
       "<div>\n",
       "<style scoped>\n",
       "    .dataframe tbody tr th:only-of-type {\n",
       "        vertical-align: middle;\n",
       "    }\n",
       "\n",
       "    .dataframe tbody tr th {\n",
       "        vertical-align: top;\n",
       "    }\n",
       "\n",
       "    .dataframe thead th {\n",
       "        text-align: right;\n",
       "    }\n",
       "</style>\n",
       "<table border=\"1\" class=\"dataframe\">\n",
       "  <thead>\n",
       "    <tr style=\"text-align: right;\">\n",
       "      <th></th>\n",
       "      <th>f_0</th>\n",
       "      <th>f_1</th>\n",
       "      <th>f_2</th>\n",
       "      <th>f_3</th>\n",
       "      <th>f_4</th>\n",
       "      <th>f_5</th>\n",
       "      <th>f_6</th>\n",
       "      <th>f_7</th>\n",
       "      <th>f_8</th>\n",
       "      <th>f_9</th>\n",
       "      <th>...</th>\n",
       "      <th>f_30</th>\n",
       "      <th>f_31</th>\n",
       "      <th>f_32</th>\n",
       "      <th>f_33</th>\n",
       "      <th>f_34</th>\n",
       "      <th>f_35</th>\n",
       "      <th>f_36</th>\n",
       "      <th>f_37</th>\n",
       "      <th>f_38</th>\n",
       "      <th>f_39</th>\n",
       "    </tr>\n",
       "  </thead>\n",
       "  <tbody>\n",
       "    <tr>\n",
       "      <th>0</th>\n",
       "      <td>126722048.0</td>\n",
       "      <td>130523136.0</td>\n",
       "      <td>134520832.0</td>\n",
       "      <td>137883648.0</td>\n",
       "      <td>143765504.0</td>\n",
       "      <td>139075584.0</td>\n",
       "      <td>120868864.0</td>\n",
       "      <td>99934208.0</td>\n",
       "      <td>104685568.0</td>\n",
       "      <td>112574464.0</td>\n",
       "      <td>...</td>\n",
       "      <td>101728256.0</td>\n",
       "      <td>101318656.0</td>\n",
       "      <td>102604800.0</td>\n",
       "      <td>103006208.0</td>\n",
       "      <td>104034304.0</td>\n",
       "      <td>105394176.0</td>\n",
       "      <td>105132032.0</td>\n",
       "      <td>102064128.0</td>\n",
       "      <td>99016704.0</td>\n",
       "      <td>97607680.0</td>\n",
       "    </tr>\n",
       "    <tr>\n",
       "      <th>1</th>\n",
       "      <td>132313088.0</td>\n",
       "      <td>135270400.0</td>\n",
       "      <td>138477568.0</td>\n",
       "      <td>140316672.0</td>\n",
       "      <td>141271040.0</td>\n",
       "      <td>123637760.0</td>\n",
       "      <td>107446272.0</td>\n",
       "      <td>101986304.0</td>\n",
       "      <td>106835968.0</td>\n",
       "      <td>114708480.0</td>\n",
       "      <td>...</td>\n",
       "      <td>102023168.0</td>\n",
       "      <td>102612992.0</td>\n",
       "      <td>102334464.0</td>\n",
       "      <td>101425152.0</td>\n",
       "      <td>102879232.0</td>\n",
       "      <td>105508864.0</td>\n",
       "      <td>105668608.0</td>\n",
       "      <td>101187584.0</td>\n",
       "      <td>97783808.0</td>\n",
       "      <td>97046528.0</td>\n",
       "    </tr>\n",
       "    <tr>\n",
       "      <th>2</th>\n",
       "      <td>134053888.0</td>\n",
       "      <td>139218944.0</td>\n",
       "      <td>143044608.0</td>\n",
       "      <td>139304960.0</td>\n",
       "      <td>122179584.0</td>\n",
       "      <td>106278912.0</td>\n",
       "      <td>99786752.0</td>\n",
       "      <td>102227968.0</td>\n",
       "      <td>103297024.0</td>\n",
       "      <td>103985152.0</td>\n",
       "      <td>...</td>\n",
       "      <td>101179392.0</td>\n",
       "      <td>97968128.0</td>\n",
       "      <td>99741696.0</td>\n",
       "      <td>98951168.0</td>\n",
       "      <td>100536320.0</td>\n",
       "      <td>104497152.0</td>\n",
       "      <td>105828352.0</td>\n",
       "      <td>102338560.0</td>\n",
       "      <td>97456128.0</td>\n",
       "      <td>94199808.0</td>\n",
       "    </tr>\n",
       "    <tr>\n",
       "      <th>3</th>\n",
       "      <td>136908800.0</td>\n",
       "      <td>142196736.0</td>\n",
       "      <td>142434304.0</td>\n",
       "      <td>129204224.0</td>\n",
       "      <td>101171200.0</td>\n",
       "      <td>96546816.0</td>\n",
       "      <td>97607680.0</td>\n",
       "      <td>100909056.0</td>\n",
       "      <td>103481344.0</td>\n",
       "      <td>98689024.0</td>\n",
       "      <td>...</td>\n",
       "      <td>97542144.0</td>\n",
       "      <td>101978112.0</td>\n",
       "      <td>100925440.0</td>\n",
       "      <td>100368384.0</td>\n",
       "      <td>102576128.0</td>\n",
       "      <td>107442176.0</td>\n",
       "      <td>104194048.0</td>\n",
       "      <td>98021376.0</td>\n",
       "      <td>93085696.0</td>\n",
       "      <td>91439104.0</td>\n",
       "    </tr>\n",
       "    <tr>\n",
       "      <th>4</th>\n",
       "      <td>129961984.0</td>\n",
       "      <td>134168576.0</td>\n",
       "      <td>138801152.0</td>\n",
       "      <td>144396288.0</td>\n",
       "      <td>149508096.0</td>\n",
       "      <td>141045760.0</td>\n",
       "      <td>111595520.0</td>\n",
       "      <td>101367808.0</td>\n",
       "      <td>102445056.0</td>\n",
       "      <td>98213888.0</td>\n",
       "      <td>...</td>\n",
       "      <td>123568128.0</td>\n",
       "      <td>112644096.0</td>\n",
       "      <td>102064128.0</td>\n",
       "      <td>99536896.0</td>\n",
       "      <td>105848832.0</td>\n",
       "      <td>101695488.0</td>\n",
       "      <td>102084608.0</td>\n",
       "      <td>106381312.0</td>\n",
       "      <td>109187072.0</td>\n",
       "      <td>107470848.0</td>\n",
       "    </tr>\n",
       "  </tbody>\n",
       "</table>\n",
       "<p>5 rows × 40 columns</p>\n",
       "</div>"
      ],
      "text/plain": [
       "           f_0          f_1          f_2          f_3          f_4  \\\n",
       "0  126722048.0  130523136.0  134520832.0  137883648.0  143765504.0   \n",
       "1  132313088.0  135270400.0  138477568.0  140316672.0  141271040.0   \n",
       "2  134053888.0  139218944.0  143044608.0  139304960.0  122179584.0   \n",
       "3  136908800.0  142196736.0  142434304.0  129204224.0  101171200.0   \n",
       "4  129961984.0  134168576.0  138801152.0  144396288.0  149508096.0   \n",
       "\n",
       "           f_5          f_6          f_7          f_8          f_9  ...  \\\n",
       "0  139075584.0  120868864.0   99934208.0  104685568.0  112574464.0  ...   \n",
       "1  123637760.0  107446272.0  101986304.0  106835968.0  114708480.0  ...   \n",
       "2  106278912.0   99786752.0  102227968.0  103297024.0  103985152.0  ...   \n",
       "3   96546816.0   97607680.0  100909056.0  103481344.0   98689024.0  ...   \n",
       "4  141045760.0  111595520.0  101367808.0  102445056.0   98213888.0  ...   \n",
       "\n",
       "          f_30         f_31         f_32         f_33         f_34  \\\n",
       "0  101728256.0  101318656.0  102604800.0  103006208.0  104034304.0   \n",
       "1  102023168.0  102612992.0  102334464.0  101425152.0  102879232.0   \n",
       "2  101179392.0   97968128.0   99741696.0   98951168.0  100536320.0   \n",
       "3   97542144.0  101978112.0  100925440.0  100368384.0  102576128.0   \n",
       "4  123568128.0  112644096.0  102064128.0   99536896.0  105848832.0   \n",
       "\n",
       "          f_35         f_36         f_37         f_38         f_39  \n",
       "0  105394176.0  105132032.0  102064128.0   99016704.0   97607680.0  \n",
       "1  105508864.0  105668608.0  101187584.0   97783808.0   97046528.0  \n",
       "2  104497152.0  105828352.0  102338560.0   97456128.0   94199808.0  \n",
       "3  107442176.0  104194048.0   98021376.0   93085696.0   91439104.0  \n",
       "4  101695488.0  102084608.0  106381312.0  109187072.0  107470848.0  \n",
       "\n",
       "[5 rows x 40 columns]"
      ]
     },
     "metadata": {},
     "output_type": "display_data"
    }
   ],
   "source": [
    "display(df_f.head(5))"
   ]
  },
  {
   "cell_type": "code",
   "execution_count": null,
   "metadata": {},
   "outputs": [],
   "source": [
    "df_f['ClassId'] = list(df['ClassId'])\n",
    "df_f['Path'] = list(df['Path'])"
   ]
  },
  {
   "cell_type": "code",
   "execution_count": null,
   "metadata": {},
   "outputs": [
    {
     "data": {
      "text/plain": [
       "(16237, 8)"
      ]
     },
     "metadata": {},
     "output_type": "display_data"
    }
   ],
   "source": [
    "display(df.shape)"
   ]
  },
  {
   "cell_type": "code",
   "execution_count": null,
   "metadata": {},
   "outputs": [],
   "source": [
    "df_f.to_csv(path_or_buf=f'./data_{n_classes}_{cuts}_cuts.csv', index=False)"
   ]
  }
 ],
 "metadata": {
  "interpreter": {
   "hash": "ac275ad4800cf77b3eedc39c5c44cfce40246145bc5b77515017d4dd40cc5e9d"
  },
  "kernelspec": {
   "display_name": "Python 3.10.4 ('venv': venv)",
   "language": "python",
   "name": "python3"
  },
  "language_info": {
   "codemirror_mode": {
    "name": "ipython",
    "version": 3
   },
   "file_extension": ".py",
   "mimetype": "text/x-python",
   "name": "python",
   "nbconvert_exporter": "python",
   "pygments_lexer": "ipython3",
   "version": "3.10.4"
  },
  "orig_nbformat": 4
 },
 "nbformat": 4,
 "nbformat_minor": 2
}
