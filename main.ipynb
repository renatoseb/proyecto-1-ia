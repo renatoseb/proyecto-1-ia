{
 "cells": [
  {
   "cell_type": "markdown",
   "metadata": {},
   "source": [
    "## **Proyecto 1 - IA**"
   ]
  },
  {
   "cell_type": "markdown",
   "metadata": {},
   "source": [
    "**Libraries** "
   ]
  },
  {
   "cell_type": "code",
   "execution_count": 98,
   "metadata": {},
   "outputs": [],
   "source": [
    "%matplotlib inline\n",
    "\n",
    "\n",
    "import sys\n",
    "import pandas as pd\n",
    "import numpy as np\n",
    "import matplotlib.pyplot as plt\n",
    "import seaborn as sns\n",
    "from sklearn.preprocessing import normalize\n",
    "from sklearn.model_selection import train_test_split, cross_val_score, KFold\n",
    "from sklearn.metrics import accuracy_score\n",
    "from sklearn.svm import LinearSVC, NuSVC, SVC\n",
    "from sklearn.metrics import confusion_matrix, ConfusionMatrixDisplay, classification_report\n",
    "from sklearn.neighbors import KNeighborsClassifier\n",
    "\n",
    "original_stdout = sys.stdout"
   ]
  },
  {
   "cell_type": "markdown",
   "metadata": {},
   "source": [
    "## **DATA PREPROCESSING**"
   ]
  },
  {
   "cell_type": "code",
   "execution_count": 99,
   "metadata": {},
   "outputs": [],
   "source": [
    "def get_normalize(data):\n",
    "    X = data.iloc[:,:-2]        # feature columns\n",
    "    X = (X-X.mean())/X.std()    # normalize data\n",
    "\n",
    "    Y = data.iloc[:,-2:-1]      # predict variable column\n",
    "    return X, Y"
   ]
  },
  {
   "cell_type": "markdown",
   "metadata": {},
   "source": [
    "### **DATA ABSTRACT**"
   ]
  },
  {
   "cell_type": "code",
   "execution_count": 100,
   "metadata": {},
   "outputs": [],
   "source": [
    "PREDICT_V = 'ClassId'\n",
    "def data_abstract(Y):\n",
    "    n_classes = Y[PREDICT_V].unique()\n",
    "    n, c = Y.shape\n",
    "    print(f'Training examples: {n}')\n",
    "    for i in range(len(n_classes)):\n",
    "        d = Y[Y[PREDICT_V] == i]\n",
    "        r, c = d.shape\n",
    "        print(f'\\tClass-id {i} : {r} \\t{round(r*100/n)} %')"
   ]
  },
  {
   "cell_type": "code",
   "execution_count": 101,
   "metadata": {},
   "outputs": [],
   "source": [
    "def K_Fold_Validation(classifier, X, Y):\n",
    "    # get K folds index\n",
    "    folds = 10\n",
    "    kf = KFold(n_splits=folds)\n",
    "    kf.get_n_splits(X)\n",
    "    k_fold_mean_score = 0\n",
    "\n",
    "    model = classifier\n",
    "    for train_index, test_index in kf.split(X):\n",
    "        model = classifier\n",
    "        model.fit(X.loc[train_index], Y.loc[train_index].values.ravel())\n",
    "        predict = model.predict(X.loc[test_index])\n",
    "        \n",
    "        k_fold_mean_score += accuracy_score(Y.loc[test_index], predict)    \n",
    "\n",
    "    k_fold_mean_score /= folds\n",
    "    print(f'k-fold mean error:   {1 - k_fold_mean_score}')\n",
    "    # print(f'k-fold mean score:   {k_fold_mean_score}')"
   ]
  },
  {
   "cell_type": "code",
   "execution_count": 102,
   "metadata": {},
   "outputs": [],
   "source": [
    "def Bootstrap_Validation(classifier, X, Y, K=7):\n",
    "    E = 10\n",
    "    kf = KFold(n_splits=E)\n",
    "    kf.get_n_splits(X)\n",
    "\n",
    "    indexes = []\n",
    "    for train_index, test_index in kf.split(X):\n",
    "        indexes.append(np.array(test_index))\n",
    "    indexes = np.array(indexes, dtype=object)\n",
    "    bootstrap = 0\n",
    "    for i in range(E):\n",
    "        idx = np.random.choice(E, K, replace=True)\n",
    "        not_idx = [i for i in range(E) if i not in idx]\n",
    "\n",
    "        train_idx = np.concatenate(indexes[idx], axis=None)\n",
    "        test_idx = np.concatenate(indexes[not_idx], axis=None)\n",
    "        # print(idx, not_idx)\n",
    "\n",
    "        model = classifier\n",
    "        model.fit(X.loc[train_idx], Y.loc[train_idx].values.ravel())\n",
    "        predict = model.predict(X.loc[test_idx])\n",
    "        \n",
    "        bootstrap += accuracy_score(Y.loc[test_idx], predict)\n",
    "    bootstrap /= E\n",
    "    print(f'bootstrap mean error:   {1 - bootstrap}')\n",
    "    # print(f'bootstrap mean score:   {bootstrap}')"
   ]
  },
  {
   "cell_type": "code",
   "execution_count": 103,
   "metadata": {},
   "outputs": [],
   "source": [
    "class Classifier():\n",
    "    def __init__(self, tup, dataset, n, c):\n",
    "        self.file_name = dataset\n",
    "        self.n_classes = n\n",
    "        self.n_cuts = c\n",
    "        self.X, self.Y = get_normalize(pd.read_csv(dataset).sample(frac=1).reset_index(drop=True))\n",
    "        self.enc, self.model = tup\n",
    "        \n",
    "\n",
    "    def experiment(self):\n",
    "        print(f'{type(self.model)}')\n",
    "        print(f'\\t....Working on {self.file_name} .csv file')\n",
    "        PRODUCTION_MODEL = self.model\n",
    "        X_train, X_test, Y_train, Y_test = train_test_split(self.X, self.Y, test_size=0.3)\n",
    "        PRODUCTION_MODEL.fit(X_train, Y_train.values.ravel())\n",
    "        \n",
    "        print(f'train error: {1 - PRODUCTION_MODEL.score(X_train, Y_train)}')\n",
    "        print(f'test error: {1 - PRODUCTION_MODEL.score(X_test, Y_test)}')\n",
    "        \n",
    "        # K-FOLD and BOOTSTRAP VALIDATION\n",
    "        K_Fold_Validation(self.model, self.X, self.Y)\n",
    "        Bootstrap_Validation(self.model, self.X, self.Y)\n",
    "        \n",
    "        # CONFUSSION MATRIX\n",
    "        cm = confusion_matrix(Y_test, PRODUCTION_MODEL.predict(X_test))\n",
    "        # disp = ConfusionMatrixDisplay(confusion_matrix=cm, display_labels=PRODUCTION_MODEL.classes_)\n",
    "        # disp.plot()\n",
    "\n",
    "        cm_normalize = normalize(cm, norm='l1')\n",
    "        # disp = ConfusionMatrixDisplay(confusion_matrix=cm_normalize, display_labels=PRODUCTION_MODEL.classes_)\n",
    "        # disp.plot()\n",
    "        \n",
    "        plt.figure()\n",
    "        ax = sns.heatmap(np.array(cm_normalize), annot=True, cmap='Blues')\n",
    "        plt.savefig(f'./plots/{self.enc}_{self.n_classes}_{n_cut}_cuts.png', dpi=500)\n",
    "        plt.clf()\n",
    "        \n",
    "\n",
    "        # ACCURACY REPORT FOR EACH CLASS\n",
    "        arr = np.array(cm)\n",
    "        for i in range(self.n_classes):\n",
    "            print(f'\\taccuracy on class {i}-th: {round(arr[i,i]/np.sum(arr[i,:])*100, 5)} %')\n"
   ]
  },
  {
   "cell_type": "code",
   "execution_count": 104,
   "metadata": {},
   "outputs": [],
   "source": [
    "class_list = [5, 10]\n",
    "cut_list = [20, 10, 5, 4, 3, 2]"
   ]
  },
  {
   "cell_type": "code",
   "execution_count": 105,
   "metadata": {},
   "outputs": [],
   "source": [
    "with open('./reports/data_abstract.txt', 'w') as f:\n",
    "    sys.stdout = f\n",
    "    for c in class_list:\n",
    "        for n_cut in cut_list:\n",
    "            file_name = f'./data/data_{c}_{n_cut}_cuts.csv'\n",
    "            X, Y = get_normalize(pd.read_csv(file_name))\n",
    "            data_abstract(Y)\n",
    "            break\n",
    "    sys.stdout = original_stdout\n",
    "    f.close()"
   ]
  },
  {
   "cell_type": "code",
   "execution_count": 106,
   "metadata": {},
   "outputs": [],
   "source": [
    "# , SVC(), SVC(kernel='poly'), SVC(kernel='linear')\n",
    "models = [('KNN',KNeighborsClassifier(n_neighbors=5, algorithm='kd_tree', leaf_size=30)), ('L_SVM',LinearSVC(dual=False))]\n",
    "\n",
    "for m in models:\n",
    "    for c in class_list:\n",
    "        for n_cut in cut_list:\n",
    "            with open(f'./reports/{m[0]}_{c}_{n_cut}_cuts.txt', 'w') as f:\n",
    "                sys.stdout = f\n",
    "                engine = Classifier(tup=m, dataset=f'./data/data_{c}_{n_cut}_cuts.csv', n=c, c=n_cut)\n",
    "                engine.experiment()\n",
    "                sys.stdout = original_stdout\n",
    "                f.close()"
   ]
  }
 ],
 "metadata": {
  "interpreter": {
   "hash": "ac275ad4800cf77b3eedc39c5c44cfce40246145bc5b77515017d4dd40cc5e9d"
  },
  "kernelspec": {
   "display_name": "Python 3.10.4 ('venv': venv)",
   "language": "python",
   "name": "python3"
  },
  "language_info": {
   "codemirror_mode": {
    "name": "ipython",
    "version": 3
   },
   "file_extension": ".py",
   "mimetype": "text/x-python",
   "name": "python",
   "nbconvert_exporter": "python",
   "pygments_lexer": "ipython3",
   "version": "3.10.4"
  },
  "orig_nbformat": 4
 },
 "nbformat": 4,
 "nbformat_minor": 2
}
